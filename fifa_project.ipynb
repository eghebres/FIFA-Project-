{
 "cells": [
  {
   "cell_type": "markdown",
   "id": "9f35bae6",
   "metadata": {},
   "source": [
    "# Table of contents\n",
    "cleaning\n",
    "x-y-split\n",
    "machine learning\n",
    "metrics"
   ]
  },
  {
   "cell_type": "markdown",
   "id": "a1dfacae",
   "metadata": {},
   "source": [
    "# Cleaning"
   ]
  },
  {
   "cell_type": "code",
   "execution_count": null,
   "id": "f2e65e8f",
   "metadata": {},
   "outputs": [],
   "source": [
    "import pandas as pd\n",
    "import numpy as np\n",
    "import matplotlib.pyplot as plt\n",
    "import seaborn as sns\n",
    "\n",
    "fifa = pd.read_csv(\"fifa21_train.csv\")\n",
    "#fifa.head()\n",
    "fifa.columns[:50]"
   ]
  },
  {
   "cell_type": "code",
   "execution_count": null,
   "id": "8fff774d",
   "metadata": {},
   "outputs": [],
   "source": [
    "fifa.columns[50:]"
   ]
  },
  {
   "cell_type": "code",
   "execution_count": null,
   "id": "1c7f4021",
   "metadata": {},
   "outputs": [],
   "source": [
    "#fifa.dtypes\n",
    "fifa.shape"
   ]
  },
  {
   "cell_type": "code",
   "execution_count": null,
   "id": "2ac874b4",
   "metadata": {},
   "outputs": [],
   "source": []
  },
  {
   "cell_type": "code",
   "execution_count": null,
   "id": "5b12646f",
   "metadata": {},
   "outputs": [],
   "source": [
    "# standardizing header names\n",
    "\n",
    "cols_1 = []\n",
    "for column in fifa.columns:\n",
    "    cols_1.append(column.lower())\n",
    "fifa.columns = cols_1\n",
    "\n",
    "print(fifa.columns)"
   ]
  },
  {
   "cell_type": "code",
   "execution_count": null,
   "id": "eb141b14",
   "metadata": {},
   "outputs": [],
   "source": [
    "fifa.corr()\n",
    "# fifa[\"\"].corr(fifa['ova'])"
   ]
  },
  {
   "cell_type": "code",
   "execution_count": null,
   "id": "dac5c11e",
   "metadata": {},
   "outputs": [],
   "source": []
  },
  {
   "cell_type": "code",
   "execution_count": null,
   "id": "766bf93d",
   "metadata": {},
   "outputs": [],
   "source": [
    "fifa[['ls','st','rs','lw','lf','cf','rf','rw','lam','cam','ram','lm','lcm','cm','rcm','rm','lwb','ldm','cdm','rdm','rwb','lb','lcb','cb','rcb','rb','gk',]]\n",
    "\n",
    "\n",
    "for col in fifa[['ls','st','rs','lw','lf','cf','rf','rw','lam','cam','ram','lm','lcm','cm','rcm','rm','lwb','ldm','cdm','rdm','rwb','lb','lcb','cb','rcb','rb','gk',]]:\n",
    "   fifa[col] = fifa[col].str.split(\"+\", n = 1, expand = True)[0].astype(\"float\")\n",
    "  \n",
    "\n",
    "\n",
    "#fifa = fifa.astype('float')\n",
    "print(fifa.head())"
   ]
  },
  {
   "cell_type": "code",
   "execution_count": null,
   "id": "c1792ea7",
   "metadata": {
    "scrolled": true
   },
   "outputs": [],
   "source": [
    "# splitting the numbers\n",
    "\n",
    "# fifa_pos_values = fifa[['ls','st','rs','lw','lf','cf','rf','rw','lam','cam','ram','lm','lcm','cm','rcm','rm','lwb','ldm','cdm','rdm','rwb','lb','lcb','cb','rcb','rb','gk',]]\n",
    "\n",
    "\n",
    "# for col in fifa_pos_values:\n",
    "#    fifa_pos_values[col] = fifa_pos_values[col].str.split(\"+\", n = 1, expand = True)[0]\n",
    "\n",
    "\n",
    "# fifa_pos_values = fifa_pos_values.astype('float')\n",
    "# print(fifa_pos_values.head())"
   ]
  },
  {
   "cell_type": "code",
   "execution_count": null,
   "id": "2aac92c5",
   "metadata": {},
   "outputs": [],
   "source": []
  },
  {
   "cell_type": "code",
   "execution_count": null,
   "id": "a853b8d7",
   "metadata": {
    "scrolled": false
   },
   "outputs": [],
   "source": [
    "# checking for NaNs\n",
    "\n",
    "#fifa[\"volleys\"].isna().sum()\n",
    "#round(fifa.isna().sum()/len(fifa),4)*100\n",
    "\n",
    "fifa[fifa.columns[fifa.isna().any()]]"
   ]
  },
  {
   "cell_type": "code",
   "execution_count": null,
   "id": "eca954a2",
   "metadata": {},
   "outputs": [],
   "source": [
    "# dropping columns with NaN values: club, joined, loan date end, position, a/w, d/w\n",
    "#fifa['loan date end'].value_counts\n",
    "fifa = fifa[fifa['club'].isna()==False]\n",
    "fifa = fifa[fifa['joined'].isna()==False]\n",
    "fifa = fifa[fifa['position'].isna()==False]\n",
    "fifa = fifa[fifa['a/w'].isna()==False]\n",
    "fifa = fifa[fifa['d/w'].isna()==False]\n",
    "\n"
   ]
  },
  {
   "cell_type": "code",
   "execution_count": null,
   "id": "90b9f54b",
   "metadata": {},
   "outputs": [],
   "source": [
    "#checking again for NaN values\n",
    "round(fifa.isna().sum()/len(fifa),4)*100\n",
    "fifa[fifa.columns[fifa.isna().any()]]"
   ]
  },
  {
   "cell_type": "code",
   "execution_count": null,
   "id": "01041657",
   "metadata": {},
   "outputs": [],
   "source": [
    "# mean for composure NaN values\n",
    "\n",
    "mean_median_composure = fifa['composure'].mean()\n",
    "fifa['composure'] = fifa['composure'].fillna(mean_median_composure)"
   ]
  },
  {
   "cell_type": "code",
   "execution_count": null,
   "id": "bd1da6d9",
   "metadata": {},
   "outputs": [],
   "source": [
    "# dropping unneccesary columns\n",
    "\n",
    "fifa = fifa.drop([\"loan date end\"],axis =1) # to many NaNs\n",
    "fifa = fifa.drop([\"id\"],axis =1)\n",
    "fifa = fifa.drop([\"growth\"],axis =1) # low correlation with ova\n",
    "fifa = fifa.drop([\"team & contract\"],axis =1)\n",
    "fifa = fifa.drop([\"contract\"],axis =1)\n",
    "fifa = fifa.drop([\"w/f\"],axis =1) # unknown feature\n",
    "fifa = fifa.drop([\"sm\"],axis =1) # see above\n",
    "fifa = fifa.drop([\"ir\"],axis =1) # see above\n",
    "fifa = fifa.drop([\"height\"],axis =1) # useless american metric\n",
    "\n",
    "# dropping columns \"attacking\" through \"goalkeeping\" -> sum of total stats\n",
    "fifa = fifa[[\"name\",\"age\",\"nationality\",\"bp\",\"position\",\n",
    "             \"weight\",\"foot\",\"value\",\"wage\",\"release clause\",\"marking\",\n",
    "            \"total stats\",\"base stats\",\"a/w\",\"d/w\",\"pac\",\"sho\",\"pas\",\"dri\",\n",
    "            \"def\",\"phy\",\"hits\",'ls','st','rs','lw','lf','cf','rf','rw','lam',\n",
    "             'cam','ram','lm','lcm','cm','rcm','rm','lwb','ldm','cdm','rdm','rwb',\n",
    "             'lb','lcb','cb','rcb','rb','gk',\"ova\"]]\n",
    "fifa.head()"
   ]
  },
  {
   "cell_type": "code",
   "execution_count": null,
   "id": "af1ed59d",
   "metadata": {},
   "outputs": [],
   "source": []
  },
  {
   "cell_type": "code",
   "execution_count": null,
   "id": "56d7ebf6",
   "metadata": {},
   "outputs": [],
   "source": [
    "# wage: replacing € + K, converting to float\n",
    "fifa[\"wage\"] = fifa['wage'].apply(lambda x: x.replace('€', ''))\n",
    "fifa[\"wage\"] = fifa['wage'].apply(lambda x: x.replace('K', '000'))\n",
    "fifa['wage'] = fifa['wage'].astype('float')\n",
    "fifa['wage']"
   ]
  },
  {
   "cell_type": "code",
   "execution_count": null,
   "id": "2afae130",
   "metadata": {},
   "outputs": [],
   "source": [
    "# release clause: replacing € + K + M, converting to float\n",
    "\n",
    "fifa[\"release clause\"] = fifa['release clause'].apply(lambda x: x.replace('.', ''))\n",
    "fifa[\"release clause\"] = fifa['release clause'].apply(lambda x: x.replace('€', ''))\n",
    "fifa[\"release clause\"] = fifa['release clause'].apply(lambda x: x.replace('K', '000'))\n",
    "fifa[\"release clause\"] = fifa['release clause'].apply(lambda x: x.replace('M', '000000'))\n",
    "fifa['release clause'] = fifa['release clause'].astype('float')\n",
    "fifa[\"release clause\"]"
   ]
  },
  {
   "cell_type": "code",
   "execution_count": null,
   "id": "95fd2d6f",
   "metadata": {},
   "outputs": [],
   "source": [
    "# value: replacing € + K + M, converting to float\n",
    "\n",
    "fifa[\"value\"] = fifa['value'].apply(lambda x: x.replace('.', ''))\n",
    "fifa[\"value\"] = fifa['value'].apply(lambda x: x.replace('€', ''))\n",
    "fifa[\"value\"] = fifa['value'].apply(lambda x: x.replace('K', '000'))\n",
    "fifa[\"value\"] = fifa['value'].apply(lambda x: x.replace('M', '000000'))\n",
    "fifa['value'] = fifa['value'].astype('float')\n",
    "fifa[\"value\"]"
   ]
  },
  {
   "cell_type": "code",
   "execution_count": null,
   "id": "bca57e83",
   "metadata": {},
   "outputs": [],
   "source": [
    "# weight: replacing lbs, converting to float\n",
    "\n",
    "fifa[\"weight\"] = fifa['weight'].apply(lambda x: x.replace('lbs', ''))\n",
    "fifa['weight'] = fifa['weight'].astype('float')\n",
    "fifa[\"weight\"]\n"
   ]
  },
  {
   "cell_type": "code",
   "execution_count": null,
   "id": "9e845dba",
   "metadata": {},
   "outputs": [],
   "source": [
    "print(fifa.shape)\n",
    "print(fifa.head())"
   ]
  },
  {
   "cell_type": "code",
   "execution_count": null,
   "id": "adfaee93",
   "metadata": {},
   "outputs": [],
   "source": [
    "# end of cleaning"
   ]
  },
  {
   "cell_type": "code",
   "execution_count": null,
   "id": "e49d05fb",
   "metadata": {
    "scrolled": true
   },
   "outputs": [],
   "source": [
    "# replace -inf values after taking log\n",
    "def log_transfom_clean1(x):\n",
    "    x = np.log10(x)\n",
    "    if np.isfinite(x):\n",
    "        return x\n",
    "    else:\n",
    "        return 0\n",
    "\n",
    "value_log = fifa['value'].apply(lambda x :log_transfom_clean1(x))\n",
    "sns.displot(value_log)\n",
    "plt.show()\n"
   ]
  },
  {
   "cell_type": "code",
   "execution_count": null,
   "id": "9b10aea4",
   "metadata": {},
   "outputs": [],
   "source": [
    "def log_transfom_clean1(x):\n",
    "    x = np.log10(x)\n",
    "    if np.isfinite(x):\n",
    "        return x\n",
    "    else:\n",
    "        return 0\n",
    "\n",
    "wage_log = fifa['wage'].apply(lambda x :log_transfom_clean1(x))\n",
    "sns.displot(wage_log)\n",
    "plt.show()"
   ]
  },
  {
   "cell_type": "code",
   "execution_count": null,
   "id": "d26c2050",
   "metadata": {},
   "outputs": [],
   "source": [
    "def log_transfom_clean1(x):\n",
    "    x = np.log10(x)\n",
    "    if np.isfinite(x):\n",
    "        return x\n",
    "    else:\n",
    "        return 0\n",
    "\n",
    "release_clause_log = fifa['release clause'].apply(lambda x :log_transfom_clean1(x))\n",
    "sns.displot(release_clause_log)\n",
    "plt.show()"
   ]
  },
  {
   "cell_type": "code",
   "execution_count": null,
   "id": "365dc120",
   "metadata": {},
   "outputs": [],
   "source": [
    "\n",
    "for col in fifa:\n",
    "    num_all = sns.histplot(data=fifa,x=col,kde=True)\n",
    "    plt.title(col)\n",
    "    plt.show(num_all)"
   ]
  },
  {
   "cell_type": "code",
   "execution_count": null,
   "id": "1856110a",
   "metadata": {},
   "outputs": [],
   "source": [
    "fifa_num.describe().T"
   ]
  },
  {
   "cell_type": "markdown",
   "id": "da25fc5d",
   "metadata": {},
   "source": [
    "## X - y - split"
   ]
  },
  {
   "cell_type": "code",
   "execution_count": null,
   "id": "0d628cd5",
   "metadata": {},
   "outputs": [],
   "source": [
    "y = fifa['ova'] # target \n",
    "X = fifa.drop(['ova'], axis = 1) # features\n",
    "\n",
    "fifa_cat = fifa.select_dtypes(include=np.object)\n",
    "fifa_num = fifa.select_dtypes(include=np.number)\n",
    "\n",
    "y.head()"
   ]
  },
  {
   "cell_type": "markdown",
   "id": "17b39915",
   "metadata": {},
   "source": [
    "# Normalizing numerical data"
   ]
  },
  {
   "cell_type": "code",
   "execution_count": null,
   "id": "cb1f1c73",
   "metadata": {},
   "outputs": [],
   "source": [
    "from sklearn.preprocessing import MinMaxScaler\n",
    "\n",
    "transformer = MinMaxScaler().fit(X_num)\n",
    "X_normalized = transformer.transform(X_num)\n",
    "\n",
    "#print(x_normalized.shape)\n",
    "\n",
    "X_normalized\n",
    "\n",
    "data_norm_minmax = pd.DataFrame(X_normalized, columns=X_num.columns)\n",
    "data_norm_minmax.describe().T"
   ]
  }
 ],
 "metadata": {
  "kernelspec": {
   "display_name": "Python 3 (ipykernel)",
   "language": "python",
   "name": "python3"
  },
  "language_info": {
   "codemirror_mode": {
    "name": "ipython",
    "version": 3
   },
   "file_extension": ".py",
   "mimetype": "text/x-python",
   "name": "python",
   "nbconvert_exporter": "python",
   "pygments_lexer": "ipython3",
   "version": "3.9.12"
  }
 },
 "nbformat": 4,
 "nbformat_minor": 5
}
