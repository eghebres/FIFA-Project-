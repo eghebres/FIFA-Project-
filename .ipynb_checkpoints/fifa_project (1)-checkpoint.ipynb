{
 "cells": [
  {
   "cell_type": "markdown",
   "id": "d49adb2f",
   "metadata": {},
   "source": [
    "# Table of contents\n",
    "\n",
    "* [Cleaning](#cleaning)\n",
    "* [x-y-split](#split)\n",
    "* [Linear Regression](#lg)\n",
    "* [Model Validation - Metrics](#metrics)"
   ]
  },
  {
   "cell_type": "markdown",
   "id": "20d4c661",
   "metadata": {},
   "source": [
    "# Cleaning <a class=\"anchor\" id=\"cleaning\"></a>"
   ]
  },
  {
   "cell_type": "code",
   "execution_count": 3,
   "id": "f2e65e8f",
   "metadata": {},
   "outputs": [
    {
     "ename": "FileNotFoundError",
     "evalue": "[Errno 2] No such file or directory: 'fifa21_train.csv'",
     "output_type": "error",
     "traceback": [
      "\u001b[1;31m---------------------------------------------------------------------------\u001b[0m",
      "\u001b[1;31mFileNotFoundError\u001b[0m                         Traceback (most recent call last)",
      "Input \u001b[1;32mIn [3]\u001b[0m, in \u001b[0;36m<cell line: 6>\u001b[1;34m()\u001b[0m\n\u001b[0;32m      3\u001b[0m \u001b[38;5;28;01mimport\u001b[39;00m \u001b[38;5;21;01mmatplotlib\u001b[39;00m\u001b[38;5;21;01m.\u001b[39;00m\u001b[38;5;21;01mpyplot\u001b[39;00m \u001b[38;5;28;01mas\u001b[39;00m \u001b[38;5;21;01mplt\u001b[39;00m\n\u001b[0;32m      4\u001b[0m \u001b[38;5;28;01mimport\u001b[39;00m \u001b[38;5;21;01mseaborn\u001b[39;00m \u001b[38;5;28;01mas\u001b[39;00m \u001b[38;5;21;01msns\u001b[39;00m\n\u001b[1;32m----> 6\u001b[0m fifa \u001b[38;5;241m=\u001b[39m \u001b[43mpd\u001b[49m\u001b[38;5;241;43m.\u001b[39;49m\u001b[43mread_csv\u001b[49m\u001b[43m(\u001b[49m\u001b[38;5;124;43m\"\u001b[39;49m\u001b[38;5;124;43mfifa21_train.csv\u001b[39;49m\u001b[38;5;124;43m\"\u001b[39;49m\u001b[43m)\u001b[49m\n\u001b[0;32m      7\u001b[0m \u001b[38;5;66;03m#fifa.head()\u001b[39;00m\n\u001b[0;32m      8\u001b[0m fifa\u001b[38;5;241m.\u001b[39mcolumns[:\u001b[38;5;241m50\u001b[39m]\n",
      "File \u001b[1;32m~\\anaconda\\lib\\site-packages\\pandas\\util\\_decorators.py:311\u001b[0m, in \u001b[0;36mdeprecate_nonkeyword_arguments.<locals>.decorate.<locals>.wrapper\u001b[1;34m(*args, **kwargs)\u001b[0m\n\u001b[0;32m    305\u001b[0m \u001b[38;5;28;01mif\u001b[39;00m \u001b[38;5;28mlen\u001b[39m(args) \u001b[38;5;241m>\u001b[39m num_allow_args:\n\u001b[0;32m    306\u001b[0m     warnings\u001b[38;5;241m.\u001b[39mwarn(\n\u001b[0;32m    307\u001b[0m         msg\u001b[38;5;241m.\u001b[39mformat(arguments\u001b[38;5;241m=\u001b[39marguments),\n\u001b[0;32m    308\u001b[0m         \u001b[38;5;167;01mFutureWarning\u001b[39;00m,\n\u001b[0;32m    309\u001b[0m         stacklevel\u001b[38;5;241m=\u001b[39mstacklevel,\n\u001b[0;32m    310\u001b[0m     )\n\u001b[1;32m--> 311\u001b[0m \u001b[38;5;28;01mreturn\u001b[39;00m func(\u001b[38;5;241m*\u001b[39margs, \u001b[38;5;241m*\u001b[39m\u001b[38;5;241m*\u001b[39mkwargs)\n",
      "File \u001b[1;32m~\\anaconda\\lib\\site-packages\\pandas\\io\\parsers\\readers.py:680\u001b[0m, in \u001b[0;36mread_csv\u001b[1;34m(filepath_or_buffer, sep, delimiter, header, names, index_col, usecols, squeeze, prefix, mangle_dupe_cols, dtype, engine, converters, true_values, false_values, skipinitialspace, skiprows, skipfooter, nrows, na_values, keep_default_na, na_filter, verbose, skip_blank_lines, parse_dates, infer_datetime_format, keep_date_col, date_parser, dayfirst, cache_dates, iterator, chunksize, compression, thousands, decimal, lineterminator, quotechar, quoting, doublequote, escapechar, comment, encoding, encoding_errors, dialect, error_bad_lines, warn_bad_lines, on_bad_lines, delim_whitespace, low_memory, memory_map, float_precision, storage_options)\u001b[0m\n\u001b[0;32m    665\u001b[0m kwds_defaults \u001b[38;5;241m=\u001b[39m _refine_defaults_read(\n\u001b[0;32m    666\u001b[0m     dialect,\n\u001b[0;32m    667\u001b[0m     delimiter,\n\u001b[1;32m   (...)\u001b[0m\n\u001b[0;32m    676\u001b[0m     defaults\u001b[38;5;241m=\u001b[39m{\u001b[38;5;124m\"\u001b[39m\u001b[38;5;124mdelimiter\u001b[39m\u001b[38;5;124m\"\u001b[39m: \u001b[38;5;124m\"\u001b[39m\u001b[38;5;124m,\u001b[39m\u001b[38;5;124m\"\u001b[39m},\n\u001b[0;32m    677\u001b[0m )\n\u001b[0;32m    678\u001b[0m kwds\u001b[38;5;241m.\u001b[39mupdate(kwds_defaults)\n\u001b[1;32m--> 680\u001b[0m \u001b[38;5;28;01mreturn\u001b[39;00m \u001b[43m_read\u001b[49m\u001b[43m(\u001b[49m\u001b[43mfilepath_or_buffer\u001b[49m\u001b[43m,\u001b[49m\u001b[43m \u001b[49m\u001b[43mkwds\u001b[49m\u001b[43m)\u001b[49m\n",
      "File \u001b[1;32m~\\anaconda\\lib\\site-packages\\pandas\\io\\parsers\\readers.py:575\u001b[0m, in \u001b[0;36m_read\u001b[1;34m(filepath_or_buffer, kwds)\u001b[0m\n\u001b[0;32m    572\u001b[0m _validate_names(kwds\u001b[38;5;241m.\u001b[39mget(\u001b[38;5;124m\"\u001b[39m\u001b[38;5;124mnames\u001b[39m\u001b[38;5;124m\"\u001b[39m, \u001b[38;5;28;01mNone\u001b[39;00m))\n\u001b[0;32m    574\u001b[0m \u001b[38;5;66;03m# Create the parser.\u001b[39;00m\n\u001b[1;32m--> 575\u001b[0m parser \u001b[38;5;241m=\u001b[39m TextFileReader(filepath_or_buffer, \u001b[38;5;241m*\u001b[39m\u001b[38;5;241m*\u001b[39mkwds)\n\u001b[0;32m    577\u001b[0m \u001b[38;5;28;01mif\u001b[39;00m chunksize \u001b[38;5;129;01mor\u001b[39;00m iterator:\n\u001b[0;32m    578\u001b[0m     \u001b[38;5;28;01mreturn\u001b[39;00m parser\n",
      "File \u001b[1;32m~\\anaconda\\lib\\site-packages\\pandas\\io\\parsers\\readers.py:933\u001b[0m, in \u001b[0;36mTextFileReader.__init__\u001b[1;34m(self, f, engine, **kwds)\u001b[0m\n\u001b[0;32m    930\u001b[0m     \u001b[38;5;28mself\u001b[39m\u001b[38;5;241m.\u001b[39moptions[\u001b[38;5;124m\"\u001b[39m\u001b[38;5;124mhas_index_names\u001b[39m\u001b[38;5;124m\"\u001b[39m] \u001b[38;5;241m=\u001b[39m kwds[\u001b[38;5;124m\"\u001b[39m\u001b[38;5;124mhas_index_names\u001b[39m\u001b[38;5;124m\"\u001b[39m]\n\u001b[0;32m    932\u001b[0m \u001b[38;5;28mself\u001b[39m\u001b[38;5;241m.\u001b[39mhandles: IOHandles \u001b[38;5;241m|\u001b[39m \u001b[38;5;28;01mNone\u001b[39;00m \u001b[38;5;241m=\u001b[39m \u001b[38;5;28;01mNone\u001b[39;00m\n\u001b[1;32m--> 933\u001b[0m \u001b[38;5;28mself\u001b[39m\u001b[38;5;241m.\u001b[39m_engine \u001b[38;5;241m=\u001b[39m \u001b[38;5;28;43mself\u001b[39;49m\u001b[38;5;241;43m.\u001b[39;49m\u001b[43m_make_engine\u001b[49m\u001b[43m(\u001b[49m\u001b[43mf\u001b[49m\u001b[43m,\u001b[49m\u001b[43m \u001b[49m\u001b[38;5;28;43mself\u001b[39;49m\u001b[38;5;241;43m.\u001b[39;49m\u001b[43mengine\u001b[49m\u001b[43m)\u001b[49m\n",
      "File \u001b[1;32m~\\anaconda\\lib\\site-packages\\pandas\\io\\parsers\\readers.py:1217\u001b[0m, in \u001b[0;36mTextFileReader._make_engine\u001b[1;34m(self, f, engine)\u001b[0m\n\u001b[0;32m   1213\u001b[0m     mode \u001b[38;5;241m=\u001b[39m \u001b[38;5;124m\"\u001b[39m\u001b[38;5;124mrb\u001b[39m\u001b[38;5;124m\"\u001b[39m\n\u001b[0;32m   1214\u001b[0m \u001b[38;5;66;03m# error: No overload variant of \"get_handle\" matches argument types\u001b[39;00m\n\u001b[0;32m   1215\u001b[0m \u001b[38;5;66;03m# \"Union[str, PathLike[str], ReadCsvBuffer[bytes], ReadCsvBuffer[str]]\"\u001b[39;00m\n\u001b[0;32m   1216\u001b[0m \u001b[38;5;66;03m# , \"str\", \"bool\", \"Any\", \"Any\", \"Any\", \"Any\", \"Any\"\u001b[39;00m\n\u001b[1;32m-> 1217\u001b[0m \u001b[38;5;28mself\u001b[39m\u001b[38;5;241m.\u001b[39mhandles \u001b[38;5;241m=\u001b[39m \u001b[43mget_handle\u001b[49m\u001b[43m(\u001b[49m\u001b[43m  \u001b[49m\u001b[38;5;66;43;03m# type: ignore[call-overload]\u001b[39;49;00m\n\u001b[0;32m   1218\u001b[0m \u001b[43m    \u001b[49m\u001b[43mf\u001b[49m\u001b[43m,\u001b[49m\n\u001b[0;32m   1219\u001b[0m \u001b[43m    \u001b[49m\u001b[43mmode\u001b[49m\u001b[43m,\u001b[49m\n\u001b[0;32m   1220\u001b[0m \u001b[43m    \u001b[49m\u001b[43mencoding\u001b[49m\u001b[38;5;241;43m=\u001b[39;49m\u001b[38;5;28;43mself\u001b[39;49m\u001b[38;5;241;43m.\u001b[39;49m\u001b[43moptions\u001b[49m\u001b[38;5;241;43m.\u001b[39;49m\u001b[43mget\u001b[49m\u001b[43m(\u001b[49m\u001b[38;5;124;43m\"\u001b[39;49m\u001b[38;5;124;43mencoding\u001b[39;49m\u001b[38;5;124;43m\"\u001b[39;49m\u001b[43m,\u001b[49m\u001b[43m \u001b[49m\u001b[38;5;28;43;01mNone\u001b[39;49;00m\u001b[43m)\u001b[49m\u001b[43m,\u001b[49m\n\u001b[0;32m   1221\u001b[0m \u001b[43m    \u001b[49m\u001b[43mcompression\u001b[49m\u001b[38;5;241;43m=\u001b[39;49m\u001b[38;5;28;43mself\u001b[39;49m\u001b[38;5;241;43m.\u001b[39;49m\u001b[43moptions\u001b[49m\u001b[38;5;241;43m.\u001b[39;49m\u001b[43mget\u001b[49m\u001b[43m(\u001b[49m\u001b[38;5;124;43m\"\u001b[39;49m\u001b[38;5;124;43mcompression\u001b[39;49m\u001b[38;5;124;43m\"\u001b[39;49m\u001b[43m,\u001b[49m\u001b[43m \u001b[49m\u001b[38;5;28;43;01mNone\u001b[39;49;00m\u001b[43m)\u001b[49m\u001b[43m,\u001b[49m\n\u001b[0;32m   1222\u001b[0m \u001b[43m    \u001b[49m\u001b[43mmemory_map\u001b[49m\u001b[38;5;241;43m=\u001b[39;49m\u001b[38;5;28;43mself\u001b[39;49m\u001b[38;5;241;43m.\u001b[39;49m\u001b[43moptions\u001b[49m\u001b[38;5;241;43m.\u001b[39;49m\u001b[43mget\u001b[49m\u001b[43m(\u001b[49m\u001b[38;5;124;43m\"\u001b[39;49m\u001b[38;5;124;43mmemory_map\u001b[39;49m\u001b[38;5;124;43m\"\u001b[39;49m\u001b[43m,\u001b[49m\u001b[43m \u001b[49m\u001b[38;5;28;43;01mFalse\u001b[39;49;00m\u001b[43m)\u001b[49m\u001b[43m,\u001b[49m\n\u001b[0;32m   1223\u001b[0m \u001b[43m    \u001b[49m\u001b[43mis_text\u001b[49m\u001b[38;5;241;43m=\u001b[39;49m\u001b[43mis_text\u001b[49m\u001b[43m,\u001b[49m\n\u001b[0;32m   1224\u001b[0m \u001b[43m    \u001b[49m\u001b[43merrors\u001b[49m\u001b[38;5;241;43m=\u001b[39;49m\u001b[38;5;28;43mself\u001b[39;49m\u001b[38;5;241;43m.\u001b[39;49m\u001b[43moptions\u001b[49m\u001b[38;5;241;43m.\u001b[39;49m\u001b[43mget\u001b[49m\u001b[43m(\u001b[49m\u001b[38;5;124;43m\"\u001b[39;49m\u001b[38;5;124;43mencoding_errors\u001b[39;49m\u001b[38;5;124;43m\"\u001b[39;49m\u001b[43m,\u001b[49m\u001b[43m \u001b[49m\u001b[38;5;124;43m\"\u001b[39;49m\u001b[38;5;124;43mstrict\u001b[39;49m\u001b[38;5;124;43m\"\u001b[39;49m\u001b[43m)\u001b[49m\u001b[43m,\u001b[49m\n\u001b[0;32m   1225\u001b[0m \u001b[43m    \u001b[49m\u001b[43mstorage_options\u001b[49m\u001b[38;5;241;43m=\u001b[39;49m\u001b[38;5;28;43mself\u001b[39;49m\u001b[38;5;241;43m.\u001b[39;49m\u001b[43moptions\u001b[49m\u001b[38;5;241;43m.\u001b[39;49m\u001b[43mget\u001b[49m\u001b[43m(\u001b[49m\u001b[38;5;124;43m\"\u001b[39;49m\u001b[38;5;124;43mstorage_options\u001b[39;49m\u001b[38;5;124;43m\"\u001b[39;49m\u001b[43m,\u001b[49m\u001b[43m \u001b[49m\u001b[38;5;28;43;01mNone\u001b[39;49;00m\u001b[43m)\u001b[49m\u001b[43m,\u001b[49m\n\u001b[0;32m   1226\u001b[0m \u001b[43m\u001b[49m\u001b[43m)\u001b[49m\n\u001b[0;32m   1227\u001b[0m \u001b[38;5;28;01massert\u001b[39;00m \u001b[38;5;28mself\u001b[39m\u001b[38;5;241m.\u001b[39mhandles \u001b[38;5;129;01mis\u001b[39;00m \u001b[38;5;129;01mnot\u001b[39;00m \u001b[38;5;28;01mNone\u001b[39;00m\n\u001b[0;32m   1228\u001b[0m f \u001b[38;5;241m=\u001b[39m \u001b[38;5;28mself\u001b[39m\u001b[38;5;241m.\u001b[39mhandles\u001b[38;5;241m.\u001b[39mhandle\n",
      "File \u001b[1;32m~\\anaconda\\lib\\site-packages\\pandas\\io\\common.py:789\u001b[0m, in \u001b[0;36mget_handle\u001b[1;34m(path_or_buf, mode, encoding, compression, memory_map, is_text, errors, storage_options)\u001b[0m\n\u001b[0;32m    784\u001b[0m \u001b[38;5;28;01melif\u001b[39;00m \u001b[38;5;28misinstance\u001b[39m(handle, \u001b[38;5;28mstr\u001b[39m):\n\u001b[0;32m    785\u001b[0m     \u001b[38;5;66;03m# Check whether the filename is to be opened in binary mode.\u001b[39;00m\n\u001b[0;32m    786\u001b[0m     \u001b[38;5;66;03m# Binary mode does not support 'encoding' and 'newline'.\u001b[39;00m\n\u001b[0;32m    787\u001b[0m     \u001b[38;5;28;01mif\u001b[39;00m ioargs\u001b[38;5;241m.\u001b[39mencoding \u001b[38;5;129;01mand\u001b[39;00m \u001b[38;5;124m\"\u001b[39m\u001b[38;5;124mb\u001b[39m\u001b[38;5;124m\"\u001b[39m \u001b[38;5;129;01mnot\u001b[39;00m \u001b[38;5;129;01min\u001b[39;00m ioargs\u001b[38;5;241m.\u001b[39mmode:\n\u001b[0;32m    788\u001b[0m         \u001b[38;5;66;03m# Encoding\u001b[39;00m\n\u001b[1;32m--> 789\u001b[0m         handle \u001b[38;5;241m=\u001b[39m \u001b[38;5;28;43mopen\u001b[39;49m\u001b[43m(\u001b[49m\n\u001b[0;32m    790\u001b[0m \u001b[43m            \u001b[49m\u001b[43mhandle\u001b[49m\u001b[43m,\u001b[49m\n\u001b[0;32m    791\u001b[0m \u001b[43m            \u001b[49m\u001b[43mioargs\u001b[49m\u001b[38;5;241;43m.\u001b[39;49m\u001b[43mmode\u001b[49m\u001b[43m,\u001b[49m\n\u001b[0;32m    792\u001b[0m \u001b[43m            \u001b[49m\u001b[43mencoding\u001b[49m\u001b[38;5;241;43m=\u001b[39;49m\u001b[43mioargs\u001b[49m\u001b[38;5;241;43m.\u001b[39;49m\u001b[43mencoding\u001b[49m\u001b[43m,\u001b[49m\n\u001b[0;32m    793\u001b[0m \u001b[43m            \u001b[49m\u001b[43merrors\u001b[49m\u001b[38;5;241;43m=\u001b[39;49m\u001b[43merrors\u001b[49m\u001b[43m,\u001b[49m\n\u001b[0;32m    794\u001b[0m \u001b[43m            \u001b[49m\u001b[43mnewline\u001b[49m\u001b[38;5;241;43m=\u001b[39;49m\u001b[38;5;124;43m\"\u001b[39;49m\u001b[38;5;124;43m\"\u001b[39;49m\u001b[43m,\u001b[49m\n\u001b[0;32m    795\u001b[0m \u001b[43m        \u001b[49m\u001b[43m)\u001b[49m\n\u001b[0;32m    796\u001b[0m     \u001b[38;5;28;01melse\u001b[39;00m:\n\u001b[0;32m    797\u001b[0m         \u001b[38;5;66;03m# Binary mode\u001b[39;00m\n\u001b[0;32m    798\u001b[0m         handle \u001b[38;5;241m=\u001b[39m \u001b[38;5;28mopen\u001b[39m(handle, ioargs\u001b[38;5;241m.\u001b[39mmode)\n",
      "\u001b[1;31mFileNotFoundError\u001b[0m: [Errno 2] No such file or directory: 'fifa21_train.csv'"
     ]
    }
   ],
   "source": [
    "import pandas as pd\n",
    "import numpy as np\n",
    "import matplotlib.pyplot as plt\n",
    "import seaborn as sns\n",
    "\n",
    "fifa = pd.read_csv(\"fifa21_train.csv\")\n",
    "#fifa.head()\n",
    "fifa.columns[:50]"
   ]
  },
  {
   "cell_type": "code",
   "execution_count": null,
   "id": "57a17116",
   "metadata": {},
   "outputs": [],
   "source": [
    "fifa.columns[50:]"
   ]
  },
  {
   "cell_type": "code",
   "execution_count": null,
   "id": "4b001870",
   "metadata": {},
   "outputs": [],
   "source": [
    "#fifa.dtypes\n",
    "fifa.shape"
   ]
  },
  {
   "cell_type": "code",
   "execution_count": null,
   "id": "679b70ce",
   "metadata": {},
   "outputs": [],
   "source": []
  },
  {
   "cell_type": "code",
   "execution_count": null,
   "id": "c626ad31",
   "metadata": {},
   "outputs": [],
   "source": []
  },
  {
   "cell_type": "code",
   "execution_count": null,
   "id": "3878f8d9",
   "metadata": {},
   "outputs": [],
   "source": [
    "# standardizing header names\n",
    "\n",
    "cols_1 = []\n",
    "for column in fifa.columns:\n",
    "    cols_1.append(column.lower())\n",
    "fifa.columns = cols_1\n",
    "fifa.columns = fifa.columns.str.replace(\" \",\"_\")\n",
    "fifa.head()"
   ]
  },
  {
   "cell_type": "code",
   "execution_count": null,
   "id": "3b04711a",
   "metadata": {},
   "outputs": [],
   "source": [
    "fifa.columns[:50]"
   ]
  },
  {
   "cell_type": "code",
   "execution_count": null,
   "id": "e7330979",
   "metadata": {},
   "outputs": [],
   "source": [
    "fifa.columns[50:]"
   ]
  },
  {
   "cell_type": "code",
   "execution_count": null,
   "id": "70b0f374",
   "metadata": {},
   "outputs": [],
   "source": []
  },
  {
   "cell_type": "code",
   "execution_count": null,
   "id": "b9f61873",
   "metadata": {},
   "outputs": [],
   "source": [
    "# deleting \"+_\" values + converting to float\n",
    "fifa[['ls','st','rs','lw','lf','cf','rf','rw','lam','cam','ram','lm','lcm','cm','rcm','rm','lwb','ldm','cdm','rdm','rwb','lb','lcb','cb','rcb','rb','gk',]]\n",
    "\n",
    "\n",
    "for col in fifa[['ls','st','rs','lw','lf','cf','rf','rw','lam','cam','ram','lm','lcm','cm','rcm','rm','lwb','ldm','cdm','rdm','rwb','lb','lcb','cb','rcb','rb','gk',]]:\n",
    "   fifa[col] = fifa[col].str.split(\"+\", n = 1, expand = True)[0].astype(\"float\")\n",
    "  "
   ]
  },
  {
   "cell_type": "code",
   "execution_count": null,
   "id": "c5c93b06",
   "metadata": {},
   "outputs": [],
   "source": [
    "# checking\n",
    "\n",
    "fifa.head()\n"
   ]
  },
  {
   "cell_type": "code",
   "execution_count": null,
   "id": "91f27e44",
   "metadata": {},
   "outputs": [],
   "source": [
    "# mean for composure NaN values\n",
    "\n",
    "mean_median_composure = fifa['composure'].mean()\n",
    "fifa['composure'] = fifa['composure'].fillna(mean_median_composure)"
   ]
  },
  {
   "cell_type": "code",
   "execution_count": null,
   "id": "b447db2a",
   "metadata": {},
   "outputs": [],
   "source": [
    "# dropping unneccesary columns\n",
    "\n",
    "fifa = fifa.drop([\"loan_date_end\"],axis =1) # too many NaNs\n",
    "fifa = fifa.drop([\"id\"],axis =1)\n",
    "fifa = fifa.drop([\"growth\"],axis =1) # low correlation with ova\n",
    "fifa = fifa.drop([\"team_&_contract\"],axis =1)\n",
    "fifa = fifa.drop([\"contract\"],axis =1)\n",
    "fifa = fifa.drop([\"w/f\"],axis =1) # unknown feature\n",
    "fifa = fifa.drop([\"sm\"],axis =1) # see above\n",
    "fifa = fifa.drop([\"ir\"],axis =1) # see above\n",
    "fifa = fifa.drop([\"height\"],axis =1) # useless imperial measurement system\n",
    "\n",
    "# dropping columns \"attacking\" through \"goalkeeping\" -> sum of total stats\n",
    "fifa = fifa[[\"name\",\"age\",\"nationality\",\"club\",\"bp\",\"position\",\n",
    "             \"weight\",\"foot\",\"joined\",\"value\",\"wage\",\"release_clause\",\"marking\",\n",
    "            \"total_stats\",\"base_stats\",\"a/w\",\"d/w\",\"pac\",\"sho\",\"pas\",\"dri\",\n",
    "            \"def\",\"phy\",\"hits\",'ls','st','rs','lw','lf','cf','rf','rw','lam',\n",
    "             'cam','ram','lm','lcm','cm','rcm','rm','lwb','ldm','cdm','rdm','rwb',\n",
    "             'lb','lcb','cb','rcb','rb','gk',\"ova\"]]\n",
    "fifa.head()"
   ]
  },
  {
   "cell_type": "code",
   "execution_count": null,
   "id": "b87e55fb",
   "metadata": {},
   "outputs": [],
   "source": [
    "# wage: replacing € + K, converting to float\n",
    "fifa[\"wage\"] = fifa['wage'].apply(lambda x: x.replace('€', ''))\n",
    "fifa[\"wage\"] = fifa['wage'].apply(lambda x: x.replace('K', '000'))\n",
    "fifa['wage'] = fifa['wage'].astype('float')\n",
    "fifa['wage']"
   ]
  },
  {
   "cell_type": "code",
   "execution_count": null,
   "id": "c11cbbf4",
   "metadata": {},
   "outputs": [],
   "source": [
    "# release_clause: replacing € + K + M, converting to float\n",
    "\n",
    "fifa[\"release_clause\"] = fifa['release_clause'].apply(lambda x: x.replace('.', ''))\n",
    "fifa[\"release_clause\"] = fifa['release_clause'].apply(lambda x: x.replace('€', ''))\n",
    "fifa[\"release_clause\"] = fifa['release_clause'].apply(lambda x: x.replace('K', '000'))\n",
    "fifa[\"release_clause\"] = fifa['release_clause'].apply(lambda x: x.replace('M', '000000'))\n",
    "fifa['release_clause'] = fifa[\"release_clause\"].astype('float')\n",
    "fifa[\"release_clause\"]"
   ]
  },
  {
   "cell_type": "code",
   "execution_count": null,
   "id": "1ff0983d",
   "metadata": {},
   "outputs": [],
   "source": [
    "# value: replacing € + K + M, converting to float\n",
    "\n",
    "fifa[\"value\"] = fifa['value'].apply(lambda x: x.replace('.', ''))\n",
    "fifa[\"value\"] = fifa['value'].apply(lambda x: x.replace('€', ''))\n",
    "fifa[\"value\"] = fifa['value'].apply(lambda x: x.replace('K', '000'))\n",
    "fifa[\"value\"] = fifa['value'].apply(lambda x: x.replace('M', '000000'))\n",
    "fifa['value'] = fifa['value'].astype('float')\n",
    "fifa[\"value\"]"
   ]
  },
  {
   "cell_type": "code",
   "execution_count": null,
   "id": "fb6935cd",
   "metadata": {},
   "outputs": [],
   "source": [
    "# weight: replacing lbs, converting to float\n",
    "\n",
    "fifa[\"weight\"] = fifa['weight'].apply(lambda x: x.replace('lbs', ''))\n",
    "fifa['weight'] = fifa['weight'].astype('float')\n",
    "fifa[\"weight\"]\n"
   ]
  },
  {
   "cell_type": "code",
   "execution_count": null,
   "id": "cce6f736",
   "metadata": {},
   "outputs": [],
   "source": [
    "# converting hits to numeric\n",
    "fifa['hits'] =  pd.to_numeric(fifa['hits'], errors='coerce')\n",
    "#fifa['hits'] = fifa['hits'].astype('float')\n",
    "fifa['hits'].isna().sum()"
   ]
  },
  {
   "cell_type": "code",
   "execution_count": null,
   "id": "9ea87964",
   "metadata": {},
   "outputs": [],
   "source": [
    "# checking for NaNs\n",
    "\n",
    "fifa[fifa.columns[fifa.isna().any()]]"
   ]
  },
  {
   "cell_type": "code",
   "execution_count": null,
   "id": "5f8c74d2",
   "metadata": {},
   "outputs": [],
   "source": [
    "# dropping columns with NaN values: club, joined, loan date end, position, a/w, d/w, hits\n",
    "# only a very small percentage of data\n",
    "print(\"Before:\", fifa.shape)\n",
    "\n",
    "fifa = fifa[fifa['club'].isna()==False]\n",
    "fifa = fifa[fifa['joined'].isna()==False]\n",
    "fifa = fifa[fifa['position'].isna()==False]\n",
    "fifa = fifa[fifa['a/w'].isna()==False]\n",
    "fifa = fifa[fifa['d/w'].isna()==False]\n",
    "fifa = fifa[fifa['hits'].isna()==False]\n",
    "\n",
    "print(\"After: \", fifa.shape)\n"
   ]
  },
  {
   "cell_type": "code",
   "execution_count": null,
   "id": "892514a1",
   "metadata": {},
   "outputs": [],
   "source": [
    "#checking again for NaNs\n",
    "\n",
    "fifa[fifa.columns[fifa.isna().any()]]"
   ]
  },
  {
   "cell_type": "code",
   "execution_count": null,
   "id": "0198c429",
   "metadata": {},
   "outputs": [],
   "source": [
    "fifa.shape"
   ]
  },
  {
   "cell_type": "code",
   "execution_count": null,
   "id": "1bb7f30c",
   "metadata": {},
   "outputs": [],
   "source": [
    "fifa.head()"
   ]
  },
  {
   "cell_type": "code",
   "execution_count": null,
   "id": "df0af431",
   "metadata": {},
   "outputs": [],
   "source": [
    "# # visualizing\n",
    "# for col in fifa:\n",
    "#     num_all = sns.histplot(data=fifa,x=col,kde=True)\n",
    "#     plt.title(col)\n",
    "#     plt.show(num_all)"
   ]
  },
  {
   "cell_type": "code",
   "execution_count": null,
   "id": "fd7d08e5",
   "metadata": {
    "scrolled": true
   },
   "outputs": [],
   "source": [
    "# scaling down value, wage and release clause\n",
    "\n",
    "def log_transfom_clean1(x):\n",
    "    x = np.log10(x)\n",
    "    if np.isfinite(x):\n",
    "        return x\n",
    "    else:\n",
    "        return 0\n",
    "\n",
    "value_log = fifa['value'].apply(lambda x :log_transfom_clean1(x))\n",
    "wage_log = fifa['wage'].apply(lambda x :log_transfom_clean1(x))\n",
    "release_clause_log = fifa['release_clause'].apply(lambda x :log_transfom_clean1(x))\n",
    "\n",
    "# checking new scaling on a plot\n",
    "sns.displot(value_log)\n",
    "sns.displot(wage_log)\n",
    "sns.displot(release_clause_log)\n",
    "plt.show()\n",
    "\n",
    "# adding _log to fifa database\n",
    "\n",
    "fifa[\"value_log\"] = value_log\n",
    "fifa[\"wage_log\"] = wage_log\n",
    "fifa[\"release_clause_log\"] = release_clause_log\n",
    "\n",
    "# dropping original columns\n",
    "\n",
    "fifa = fifa.drop([\"value\"], axis = 1)\n",
    "fifa = fifa.drop([\"wage\"], axis = 1)\n",
    "fifa = fifa.drop([\"release_clause\"], axis = 1)\n",
    "\n",
    "fifa.head()"
   ]
  },
  {
   "cell_type": "code",
   "execution_count": null,
   "id": "671bd1d4",
   "metadata": {},
   "outputs": [],
   "source": [
    "# placeholder cell for bonus"
   ]
  },
  {
   "cell_type": "code",
   "execution_count": null,
   "id": "537605c7",
   "metadata": {},
   "outputs": [],
   "source": [
    "# saving cleaned data\n",
    "\n",
    "#fifa.to_csv(\"fifa_cleaned.csv\")"
   ]
  },
  {
   "cell_type": "markdown",
   "id": "5efd049c",
   "metadata": {},
   "source": [
    " #### end of cleaning\n",
    " \n",
    " "
   ]
  },
  {
   "cell_type": "code",
   "execution_count": null,
   "id": "1b1b6cbc",
   "metadata": {},
   "outputs": [],
   "source": []
  },
  {
   "cell_type": "markdown",
   "id": "a28f710a",
   "metadata": {},
   "source": [
    "# x -y - split <a class=\"anchor\" id=\"split\"></a>"
   ]
  },
  {
   "cell_type": "code",
   "execution_count": null,
   "id": "4235c132",
   "metadata": {},
   "outputs": [],
   "source": [
    "# splitting \n",
    "#fifa = pd.read(\"fifa_cleaned.csv\")\n",
    "\n",
    "y = fifa['ova'] # target \n",
    "X = fifa.drop(['ova'], axis = 1) # features\n",
    "\n",
    "fifa_cat = X.select_dtypes(include=\"object\")\n",
    "fifa_num = X.select_dtypes(include=np.number)"
   ]
  },
  {
   "cell_type": "markdown",
   "id": "09d5fa65",
   "metadata": {},
   "source": [
    "### Normalizing numerical data"
   ]
  },
  {
   "cell_type": "code",
   "execution_count": null,
   "id": "8668fc6f",
   "metadata": {},
   "outputs": [],
   "source": [
    "fifa_num"
   ]
  },
  {
   "cell_type": "code",
   "execution_count": null,
   "id": "f7122517",
   "metadata": {},
   "outputs": [],
   "source": [
    "# scaling numerical features\n",
    "\n",
    "from sklearn.preprocessing import MinMaxScaler\n",
    "\n",
    "transformer = MinMaxScaler().fit(fifa_num)\n",
    "X_normalized = transformer.transform(fifa_num)\n",
    "\n",
    "#print(x_normalized.shape)\n",
    "#X_normalized\n",
    "fifa_num_minmax = pd.DataFrame(X_normalized, columns=fifa_num.columns)\n",
    "# checking\n",
    "fifa_num_minmax.describe().T"
   ]
  },
  {
   "cell_type": "markdown",
   "id": "ec895d92",
   "metadata": {},
   "source": [
    "### Normalizing categorical data"
   ]
  },
  {
   "cell_type": "code",
   "execution_count": null,
   "id": "ec55c94b",
   "metadata": {},
   "outputs": [],
   "source": [
    "fifa_cat.describe().T"
   ]
  },
  {
   "cell_type": "code",
   "execution_count": null,
   "id": "c0562ab6",
   "metadata": {},
   "outputs": [],
   "source": [
    "# dropping columns with too many unique values\n",
    "\n",
    "fifa_cat = fifa_cat.drop([\"name\"], axis = 1)\n",
    "fifa_cat = fifa_cat.drop([\"nationality\"], axis = 1)\n",
    "fifa_cat = fifa_cat.drop([\"club\"], axis = 1)\n",
    "fifa_cat = fifa_cat.drop([\"position\"], axis = 1)\n",
    "fifa_cat = fifa_cat.drop([\"joined\"], axis = 1)\n",
    "\n",
    "fifa_cat"
   ]
  },
  {
   "cell_type": "code",
   "execution_count": null,
   "id": "6ec3bf7f",
   "metadata": {},
   "outputs": [],
   "source": [
    "# encoding all columns of fifa_cat\n",
    "from sklearn.preprocessing import OneHotEncoder\n",
    "\n",
    "\n",
    "encoder = OneHotEncoder(drop='first').fit(fifa_cat) # first drops first column of every category\n",
    "encoded = encoder.transform(fifa_cat).toarray()\n",
    "cols = encoder.get_feature_names(input_features=fifa_cat.columns)\n",
    "#cols\n",
    "onehot_encoded = pd.DataFrame(encoded, columns=cols)\n",
    "onehot_encoded.head()"
   ]
  },
  {
   "cell_type": "code",
   "execution_count": null,
   "id": "a12a23b5",
   "metadata": {},
   "outputs": [],
   "source": [
    "# concat both fifa_num and fifa_cat: fifa_num_minmax + onehot_encoded\n",
    "\n",
    "fifa_whole = pd.concat([fifa_num_minmax, onehot_encoded], axis=1)"
   ]
  },
  {
   "cell_type": "markdown",
   "id": "b580bffc",
   "metadata": {},
   "source": [
    "#### end of normalizing"
   ]
  },
  {
   "cell_type": "markdown",
   "id": "e97abb59",
   "metadata": {},
   "source": [
    "# Linear Regression <a class=\"anchor\" id=\"lg\"></a>"
   ]
  },
  {
   "cell_type": "markdown",
   "id": "420a1c60",
   "metadata": {},
   "source": [
    "## Train-test split"
   ]
  },
  {
   "cell_type": "code",
   "execution_count": null,
   "id": "4a363d51",
   "metadata": {},
   "outputs": [],
   "source": [
    "from sklearn import linear_model\n",
    "from sklearn.model_selection import train_test_split\n",
    "\n",
    "X_train, X_test, y_train, y_test = train_test_split(fifa_whole, y, test_size=0.2, random_state=42)\n",
    "\n",
    "print(\"X_train \", X_train.shape)\n",
    "print(\"X_test: \", X_test.shape)\n",
    "print(\"y_train:\", y_train.shape)\n",
    "print(\"y_test: \", y_test.shape)"
   ]
  },
  {
   "cell_type": "code",
   "execution_count": null,
   "id": "58a69ced",
   "metadata": {},
   "outputs": [],
   "source": [
    "# train/fit the model\n",
    "\n",
    "lm = linear_model.LinearRegression()\n",
    "lm.fit(X_train,y_train)"
   ]
  },
  {
   "cell_type": "markdown",
   "id": "52fb4c96",
   "metadata": {},
   "source": [
    "#### end of regression"
   ]
  },
  {
   "cell_type": "markdown",
   "id": "729cba9a",
   "metadata": {},
   "source": [
    "# Model Validation - Metrics <a class=\"anchor\" id=\"metrics\"></a>"
   ]
  },
  {
   "cell_type": "code",
   "execution_count": null,
   "id": "f972ff75",
   "metadata": {},
   "outputs": [],
   "source": [
    "from sklearn.metrics import mean_absolute_error, r2_score, mean_squared_error\n",
    "\n",
    "# r2 score\n",
    "predictions_test = lm.predict(X_test)\n",
    "print(\"r2 Score of test Data: \",round(r2_score(y_test, predictions_test),3))\n",
    "predictions_train = lm.predict(X_train)\n",
    "print(\"r2 Score of train Data: \",round(r2_score(y_train, predictions_train),3), \"\\n\")\n",
    "\n",
    "# mse\n",
    "y_pred = lm.predict(fifa_whole)\n",
    "print(\"mean squared error: \",round(mean_squared_error(y_pred,y),3))\n",
    "\n",
    "# rmse\n",
    "print(\"rooted mean squared error: \", round(np.sqrt(mean_squared_error(y_pred,y)),3),\"\\n\")\n",
    "\n",
    "# mae\n",
    "mae_test = mean_absolute_error(y_test, predictions_test)\n",
    "print(\"mean absolute error of test data:\",round(mae_test,3))\n",
    "mae_train = mean_absolute_error(y_train, predictions_train)\n",
    "print(\"mean absolute error of train data:\", round(mae_train,3))"
   ]
  },
  {
   "cell_type": "markdown",
   "id": "4f5bb9c2",
   "metadata": {},
   "source": [
    "#### end of metrics"
   ]
  },
  {
   "cell_type": "code",
   "execution_count": null,
   "id": "5e3ba394",
   "metadata": {},
   "outputs": [],
   "source": [
    "# New Data"
   ]
  }
 ],
 "metadata": {
  "kernelspec": {
   "display_name": "Python 3 (ipykernel)",
   "language": "python",
   "name": "python3"
  },
  "language_info": {
   "codemirror_mode": {
    "name": "ipython",
    "version": 3
   },
   "file_extension": ".py",
   "mimetype": "text/x-python",
   "name": "python",
   "nbconvert_exporter": "python",
   "pygments_lexer": "ipython3",
   "version": "3.9.12"
  }
 },
 "nbformat": 4,
 "nbformat_minor": 5
}
